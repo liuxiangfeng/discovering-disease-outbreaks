{
 "cells": [
  {
   "cell_type": "code",
   "execution_count": null,
   "metadata": {},
   "outputs": [],
   "source": [
    "import re\n",
    "import pandas as pd\n",
    "import geonamescache as gnc\n",
    "from unidecode import unidecode\n",
    "\n",
    "\n",
    "gc = gnc.GeonamesCache()\n",
    "cities = [unidecode(city[\"name\"]) for city in gc.get_cities().values()]\n",
    "countries = [unidecode(country[\"name\"]) for country in gc.get_countries().values()]\n",
    "\n",
    "def read_file(filename):\n",
    "    headlines = []\n",
    "    with open(filename, 'r') as file:\n",
    "        for line in file.readlines():\n",
    "            headlines.append(unidecode(line).rstrip(\"\\n\"))\n",
    "            \n",
    "    return headlines\n",
    "\n",
    "def parse_data(headlines):\n",
    "    rows = {}\n",
    "    \n",
    "    for city in cities:\n",
    "        regexp = re.compile(\".*({})( |-|'|\\?|,|$)\".format(city))\n",
    "        for line in headlines:\n",
    "            if re.match(regexp, line):\n",
    "                rows[line]={\"city\":city}\n",
    "\n",
    "    for country in countries:\n",
    "        regexp = re.compile(\".*({})( |-|'|\\?|,|$)\".format(country))\n",
    "        for line in headlines:\n",
    "            if re.match(regexp, line):\n",
    "                row = rows.get(line)\n",
    "                if row:\n",
    "                    row[\"country\"]=country\n",
    "                else:\n",
    "                    rows[line]={\"country\":country}\n",
    "\n",
    "    data = []\n",
    "    for row in rows.keys():\n",
    "        data.append([row, rows[row].get(\"country\", \"NaN\"), rows[row].get(\"city\", \"NaN\")])\n",
    "    print(data)\n",
    "    \n",
    "if __name__ == '__main__':\n",
    "    filename = \"./data/headlines.txt\"\n",
    "    parse_data(read_file(filename))"
   ]
  },
  {
   "cell_type": "code",
   "execution_count": null,
   "metadata": {},
   "outputs": [],
   "source": []
  }
 ],
 "metadata": {
  "kernelspec": {
   "display_name": "Python 3",
   "language": "python",
   "name": "python3"
  },
  "language_info": {
   "codemirror_mode": {
    "name": "ipython",
    "version": 3
   },
   "file_extension": ".py",
   "mimetype": "text/x-python",
   "name": "python",
   "nbconvert_exporter": "python",
   "pygments_lexer": "ipython3",
   "version": "3.7.6"
  }
 },
 "nbformat": 4,
 "nbformat_minor": 4
}
