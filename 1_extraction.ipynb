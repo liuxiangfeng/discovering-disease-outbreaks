{
 "cells": [
  {
   "cell_type": "code",
   "execution_count": 3,
   "metadata": {},
   "outputs": [],
   "source": [
    "import re\n",
    "import pandas as pd\n",
    "import numpy as np\n",
    "import geonamescache as gnc\n",
    "from unidecode import unidecode"
   ]
  },
  {
   "cell_type": "code",
   "execution_count": 36,
   "metadata": {},
   "outputs": [],
   "source": [
    "# Step 1 - Data Preparations\n",
    "# 1 - Geonamescache data\n",
    "def read_file(filename):\n",
    "    headlines = []\n",
    "    with open(filename, 'r') as file:\n",
    "        for line in file.readlines():\n",
    "            headlines.append(unidecode(line).rstrip(\"\\n\"))\n",
    "            \n",
    "    return headlines\n",
    "\n",
    "# Initialize the data and make them global\n",
    "gc = gnc.GeonamesCache()\n",
    "countries = {unidecode(country[\"name\"]): country[\"name\"] for country in gc.get_countries().values()}\n",
    "city_maps = {unidecode(city[\"name\"]): city[\"name\"] for city in gc.get_cities().values()}\n",
    "\n",
    "country_regex = r\"\\b|\\b\".join(sorted(countries))\n",
    "city_regex = r'\\b|\\b'.join(sorted(city_maps.keys()))\n",
    "\n",
    "headlines = read_file(\"./data/headlines.txt\")\n",
    "headlines = [unidecode(line) for line in headlines]"
   ]
  },
  {
   "cell_type": "code",
   "execution_count": 47,
   "metadata": {},
   "outputs": [
    {
     "name": "stdout",
     "output_type": "stream",
     "text": [
      "[{'headline': 'Zika Outbreak Hits Miami', 'country': None, 'city': 'Miami', 'accent_city': 'Miami'}, {'headline': 'Could Zika Reach New York City?', 'country': None, 'city': 'New York City', 'accent_city': 'New York City'}, {'headline': 'First Case of Zika in Miami Beach', 'country': None, 'city': 'Miami', 'accent_city': 'Miami'}, {'headline': 'Mystery Virus Spreads in Recife, Brazil', 'country': 'Brazil', 'city': 'Recife', 'accent_city': 'Recife'}, {'headline': 'Dallas man comes down with case of Zika', 'country': None, 'city': 'Dallas', 'accent_city': 'Dallas'}, {'headline': 'Trinidad confirms first Zika case', 'country': None, 'city': 'Trinidad', 'accent_city': 'Trinidad'}, {'headline': 'Zika Concerns are Spreading in Houston', 'country': None, 'city': 'Houston', 'accent_city': 'Houston'}, {'headline': 'Geneve Scientists Battle to Find Cure', 'country': None, 'city': 'Geneve', 'accent_city': 'Genève'}, {'headline': 'The CDC in Atlanta is Growing Worried', 'country': None, 'city': 'Atlanta', 'accent_city': 'Atlanta'}, {'headline': 'Zika Infested Monkeys in Sao Paulo', 'country': None, 'city': 'Sao Paulo', 'accent_city': 'São Paulo'}]\n"
     ]
    }
   ],
   "source": [
    "def extract_city_and_country(headline):\n",
    "    city_match = re.search(city_regex, headline)\n",
    "    country_match = re.search(country_regex, headline)\n",
    "    \n",
    "    cities = None if not city_match else city_match.group(0)\n",
    "    accent_cities = None if not city_match else city_maps[city_match.group(0)]\n",
    "    countries = None if not country_match else country_match.group(0)\n",
    "    \n",
    "    return dict(headline=headline, country=countries, city=cities, accent_city=accent_cities)\n",
    "\n",
    "headline_cities_and_countries = [\n",
    "    extract_city_and_country(headline) for headline in headlines\n",
    "]\n",
    "print(headline_cities_and_countries[:10])"
   ]
  },
  {
   "cell_type": "code",
   "execution_count": 48,
   "metadata": {},
   "outputs": [],
   "source": [
    "import json\n",
    "\n",
    "def write_json(data):\n",
    "    save_file = \"./data/headline_cities_and_countries.json\"\n",
    "    with open(save_file, \"w\") as fout:\n",
    "        fout.write(json.dumps(data))\n",
    "\n",
    "write_json(headline_cities_and_countries)"
   ]
  },
  {
   "cell_type": "code",
   "execution_count": 49,
   "metadata": {},
   "outputs": [
    {
     "data": {
      "text/html": [
       "<div>\n",
       "<style scoped>\n",
       "    .dataframe tbody tr th:only-of-type {\n",
       "        vertical-align: middle;\n",
       "    }\n",
       "\n",
       "    .dataframe tbody tr th {\n",
       "        vertical-align: top;\n",
       "    }\n",
       "\n",
       "    .dataframe thead th {\n",
       "        text-align: right;\n",
       "    }\n",
       "</style>\n",
       "<table border=\"1\" class=\"dataframe\">\n",
       "  <thead>\n",
       "    <tr style=\"text-align: right;\">\n",
       "      <th></th>\n",
       "      <th>headline</th>\n",
       "      <th>country</th>\n",
       "      <th>city</th>\n",
       "      <th>accent_city</th>\n",
       "    </tr>\n",
       "  </thead>\n",
       "  <tbody>\n",
       "    <tr>\n",
       "      <th>count</th>\n",
       "      <td>650</td>\n",
       "      <td>15</td>\n",
       "      <td>608</td>\n",
       "      <td>608</td>\n",
       "    </tr>\n",
       "    <tr>\n",
       "      <th>unique</th>\n",
       "      <td>648</td>\n",
       "      <td>10</td>\n",
       "      <td>558</td>\n",
       "      <td>558</td>\n",
       "    </tr>\n",
       "    <tr>\n",
       "      <th>top</th>\n",
       "      <td>Spanish Flu Spreading through Madrid</td>\n",
       "      <td>Brazil</td>\n",
       "      <td>San</td>\n",
       "      <td>San</td>\n",
       "    </tr>\n",
       "    <tr>\n",
       "      <th>freq</th>\n",
       "      <td>2</td>\n",
       "      <td>3</td>\n",
       "      <td>13</td>\n",
       "      <td>13</td>\n",
       "    </tr>\n",
       "  </tbody>\n",
       "</table>\n",
       "</div>"
      ],
      "text/plain": [
       "                                    headline country city accent_city\n",
       "count                                    650      15  608         608\n",
       "unique                                   648      10  558         558\n",
       "top     Spanish Flu Spreading through Madrid  Brazil  San         San\n",
       "freq                                       2       3   13          13"
      ]
     },
     "execution_count": 49,
     "metadata": {},
     "output_type": "execute_result"
    }
   ],
   "source": [
    "import pandas as pd\n",
    "\n",
    "data = pd.read_json(\"./data/headline_cities_and_countries.json\")\n",
    "data = data.replace({None: np.nan})\n",
    "\n",
    "data.describe()"
   ]
  },
  {
   "cell_type": "code",
   "execution_count": null,
   "metadata": {},
   "outputs": [],
   "source": []
  }
 ],
 "metadata": {
  "kernelspec": {
   "display_name": "Python 3",
   "language": "python",
   "name": "python3"
  },
  "language_info": {
   "codemirror_mode": {
    "name": "ipython",
    "version": 3
   },
   "file_extension": ".py",
   "mimetype": "text/x-python",
   "name": "python",
   "nbconvert_exporter": "python",
   "pygments_lexer": "ipython3",
   "version": "3.7.6"
  }
 },
 "nbformat": 4,
 "nbformat_minor": 4
}
